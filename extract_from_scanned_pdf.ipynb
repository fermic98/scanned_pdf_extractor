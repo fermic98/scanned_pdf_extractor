{
 "cells": [
  {
   "cell_type": "code",
   "execution_count": 12,
   "id": "8b03969d-b3b4-427c-b981-7c05d0fad20e",
   "metadata": {
    "execution": {
     "iopub.execute_input": "2025-07-25T12:18:48.183576Z",
     "iopub.status.busy": "2025-07-25T12:18:48.183020Z",
     "iopub.status.idle": "2025-07-25T12:18:49.887831Z",
     "shell.execute_reply": "2025-07-25T12:18:49.887048Z",
     "shell.execute_reply.started": "2025-07-25T12:18:48.183548Z"
    }
   },
   "outputs": [
    {
     "name": "stdout",
     "output_type": "stream",
     "text": [
      "Requirement already satisfied: boto3 in /opt/conda/lib/python3.12/site-packages (1.39.13)\n",
      "Requirement already satisfied: pdf2image in /opt/conda/lib/python3.12/site-packages (1.17.0)\n",
      "Requirement already satisfied: botocore<1.40.0,>=1.39.13 in /opt/conda/lib/python3.12/site-packages (from boto3) (1.39.13)\n",
      "Requirement already satisfied: jmespath<2.0.0,>=0.7.1 in /opt/conda/lib/python3.12/site-packages (from boto3) (1.0.1)\n",
      "Requirement already satisfied: s3transfer<0.14.0,>=0.13.0 in /opt/conda/lib/python3.12/site-packages (from boto3) (0.13.1)\n",
      "Requirement already satisfied: python-dateutil<3.0.0,>=2.1 in /opt/conda/lib/python3.12/site-packages (from botocore<1.40.0,>=1.39.13->boto3) (2.9.0.post0)\n",
      "Requirement already satisfied: urllib3!=2.2.0,<3,>=1.25.4 in /opt/conda/lib/python3.12/site-packages (from botocore<1.40.0,>=1.39.13->boto3) (1.26.19)\n",
      "Requirement already satisfied: six>=1.5 in /opt/conda/lib/python3.12/site-packages (from python-dateutil<3.0.0,>=2.1->botocore<1.40.0,>=1.39.13->boto3) (1.17.0)\n",
      "Requirement already satisfied: pillow in /opt/conda/lib/python3.12/site-packages (from pdf2image) (11.3.0)\n"
     ]
    }
   ],
   "source": [
    "!pip install boto3 pdf2image\n"
   ]
  },
  {
   "cell_type": "code",
   "execution_count": 43,
   "id": "a6e2abb9-e12f-4b65-a390-b2e71fcb87bf",
   "metadata": {
    "execution": {
     "iopub.execute_input": "2025-07-25T14:33:47.563570Z",
     "iopub.status.busy": "2025-07-25T14:33:47.563294Z",
     "iopub.status.idle": "2025-07-25T14:33:47.576435Z",
     "shell.execute_reply": "2025-07-25T14:33:47.575777Z",
     "shell.execute_reply.started": "2025-07-25T14:33:47.563546Z"
    }
   },
   "outputs": [
    {
     "name": "stderr",
     "output_type": "stream",
     "text": [
      "2025-07-25 14:33:47,573 [INFO] webapp_html_benchmark: Using AWS Region: us-east-1\n"
     ]
    }
   ],
   "source": [
    "import boto3\n",
    "import json\n",
    "import base64\n",
    "from pdf2image import convert_from_path\n",
    "import io\n",
    "\n",
    "# AWS Bedrock client\n",
    "AWS_REGION = os.getenv(\"AWS_REGION\", \"us-east-1\")  # Made more flexible\n",
    "bedrock_config = Config(\n",
    "    connect_timeout=10, read_timeout=300, retries={\"max_attempts\": 3}\n",
    ")\n",
    "bedrock_client = boto3.client(\n",
    "    \"bedrock-runtime\", region_name=AWS_REGION, config=bedrock_config\n",
    ")\n",
    "logger.info(f\"Using AWS Region: {AWS_REGION}\")\n",
    "\n",
    "\n",
    "def query_claude_with_pdf_image(pdf_path, prompt, model_id=\"us.anthropic.claude-3-7-sonnet-20250219-v1:0\", max_tokens=4096, page_number=1, pdf_password=None):\n",
    "    \"\"\"\n",
    "    Send PDF page images to Claude Sonnet via AWS Bedrock and get the response\n",
    "    \n",
    "    Args:\n",
    "        pdf_path (str): Path to the PDF file\n",
    "        prompt (str): Instructions for information extraction\n",
    "        model_id (str): Bedrock model ID for Claude Sonnet\n",
    "        max_tokens (int): Maximum number of tokens in the response\n",
    "        \n",
    "    Returns:\n",
    "        str: Claude's response with extracted information\n",
    "    \"\"\"\n",
    "\n",
    "    # Convert PDF pages to images (with password support)\n",
    "    try:\n",
    "        if pdf_password:\n",
    "            logger.info(\"Converting password-protected PDF to images\")\n",
    "            images = convert_from_path(pdf_path, userpw=pdf_password)\n",
    "        else:\n",
    "            logger.info(\"Converting PDF to images\")\n",
    "            images = convert_from_path(pdf_path)\n",
    "    except Exception as e:\n",
    "        if \"incorrect password\" in str(e).lower() or \"password\" in str(e).lower():\n",
    "            raise ValueError(f\"Failed to open PDF: Incorrect password or PDF requires a password\")\n",
    "        else:\n",
    "            raise ValueError(f\"Failed to convert PDF to images: {str(e)}\")\n",
    "\n",
    "    total_pages = len(images)\n",
    "        \n",
    "    if total_pages == 0:\n",
    "        raise ValueError(\"No pages found in PDF\")\n",
    "        \n",
    "    # Prepare content blocks for the API request\n",
    "    content_blocks = [{\"type\": \"text\", \"text\": prompt}]\n",
    "        \n",
    "    # Handle different page selection options\n",
    "    if page_number == 0:\n",
    "        # Process all pages\n",
    "        selected_images = images\n",
    "    elif page_number == -1:\n",
    "        # Process last page\n",
    "        selected_images = [images[-1]]\n",
    "    elif 1 <= page_number <= total_pages:\n",
    "        # Process specific page (1-indexed)\n",
    "        selected_images = [images[page_number - 1]]\n",
    "    else:\n",
    "        raise ValueError(f\"Invalid page_number: {page_number}. PDF has {total_pages} pages. Use 1-{total_pages}, 0 for all pages, or -1 for last page.\")\n",
    "        \n",
    "    # Add selected page(s) as image(s)\n",
    "    for i, image in enumerate(selected_images):\n",
    "        base64_image = encode_image_to_base64(image)\n",
    "        content_blocks.append({\n",
    "            \"type\": \"image\",\n",
    "            \"source\": {\n",
    "                \"type\": \"base64\",\n",
    "                \"media_type\": \"image/png\",\n",
    "                \"data\": base64_image\n",
    "            }\n",
    "        })\n",
    "        \n",
    "    request_body = {\n",
    "            \"anthropic_version\": \"bedrock-2023-05-31\",\n",
    "            \"max_tokens\": max_tokens,\n",
    "            \"messages\": [\n",
    "                {\n",
    "                    \"role\": \"user\",\n",
    "                    \"content\": content_blocks\n",
    "                }\n",
    "            ]\n",
    "        }\n",
    "    \n",
    "    response = bedrock_client.invoke_model(\n",
    "        modelId=model_id,\n",
    "        contentType=\"application/json\",\n",
    "        accept=\"application/json\",\n",
    "        body=json.dumps(request_body),  # No need to encode to utf-8 here, SDK handles it\n",
    "    )\n",
    "    \n",
    "    # Parse and return the response\n",
    "    response_body = json.loads(response['body'].read().decode('utf-8'))\n",
    "    return response_body['content'][0]['text']"
   ]
  },
  {
   "cell_type": "code",
   "execution_count": 34,
   "id": "25920d76-25e1-45de-a753-25370471b946",
   "metadata": {
    "execution": {
     "iopub.execute_input": "2025-07-25T14:13:36.686520Z",
     "iopub.status.busy": "2025-07-25T14:13:36.685791Z",
     "iopub.status.idle": "2025-07-25T14:13:52.423389Z",
     "shell.execute_reply": "2025-07-25T14:13:52.422551Z",
     "shell.execute_reply.started": "2025-07-25T14:13:36.686478Z"
    }
   },
   "outputs": [
    {
     "name": "stdout",
     "output_type": "stream",
     "text": [
      "Here's the text from the image:\n",
      "\n",
      "APPLICATION FORM FOR FINANCIAL INSTITUTIONS WHICH ARE SECOND LEVEL BANKS\n",
      "\n",
      "Acupay Reference Number: 373351589-7931-37145\n",
      "\n",
      "IMPORTANT: Immediate Action Required...\n",
      "\n",
      "1. Print out the Application Form for Use by Financial Institutions Which are Second Level Banks (below).\n",
      "2. Review the form for accuracy and sign at the X.\n",
      "3. Send the signed the form to Monte Titoli electronically via the Acupay System using one of the following means:\n",
      "   • FAX to +39 23 600 5560 or +1 646-383-9489 or +44 20 7067 8453\n",
      "   • OR make a scanned PDF of the signed documentation into one single file and email that file to certify@acupay.com\n",
      "   • Please send only once (via email or fax but not both)\n",
      "\n",
      "4. Securely mail/courier the paper original of the signed form for receipt by Acupay in London (at the address below) on or before the 10th day of the month following the month originally signed:\n",
      "   • Monte Titoli S.p.A. c/o Acupay System LLC\n",
      "     Unit 3, 1st Floor Cosmopolitan House\n",
      "     10A Christina Street\n",
      "     London EC2A 4PA\n",
      "     United Kingdom\n",
      "\n",
      "Acupay Reference Only\n",
      "Acupay Reference #: 4-373351589-7931-37145-13171184-6767  Date (New York Time): Wednesday, September 18, 2024\n",
      "IP Address: 172.20.2.47                                    Time (New York Time): 10:19:34 AM\n",
      "\n",
      "New York:\n",
      "Acupay System LLC\n",
      "Attn: A-Team\n",
      "30 Broad Street, 46th Floor\n",
      "New York, NY 10004 United States\n",
      "Tel: +1 212 422 1222\n",
      "\n",
      "London:\n",
      "Acupay System LLC\n",
      "Attn: A-Team\n",
      "Unit 3, 1st Floor Cosmopolitan House\n",
      "10A Christina Street\n",
      "London EC2A 4PA\n",
      "United Kingdom\n",
      "Tel: +44 (0) 20 7382 0340\n",
      "\n",
      "DOCUMENT ID: 4-373351589-7931-37145-13171184-6767\n",
      "\n",
      "Application Form for Financial Institutions which are Second Level Banks\n",
      "Acupay Reference Number: 373351589-7931-37145\n"
     ]
    }
   ],
   "source": [
    "# Example usage\n",
    "pdf_path = \"data/BAR4-373351589-7931-37145-13171184-6767.pdf\"\n",
    "prompt = \"Please extract the text in the first image\"\n",
    "\n",
    "result = query_claude_with_pdf_image(pdf_path, prompt, page_number=1)\n",
    "print(result)"
   ]
  },
  {
   "cell_type": "code",
   "execution_count": 38,
   "id": "f0fc92e1-e253-48f4-9883-6be59cf96a36",
   "metadata": {
    "execution": {
     "iopub.execute_input": "2025-07-25T14:24:04.858374Z",
     "iopub.status.busy": "2025-07-25T14:24:04.857840Z",
     "iopub.status.idle": "2025-07-25T14:24:04.861615Z",
     "shell.execute_reply": "2025-07-25T14:24:04.860809Z",
     "shell.execute_reply.started": "2025-07-25T14:24:04.858344Z"
    }
   },
   "outputs": [],
   "source": []
  },
  {
   "cell_type": "markdown",
   "id": "23936456-a818-4469-8d4f-0010992cdcb2",
   "metadata": {},
   "source": [
    "# 3. Example with hand written text and tabular format"
   ]
  },
  {
   "cell_type": "code",
   "execution_count": 36,
   "id": "c96e7d73-3387-4e77-881a-1ae669a95b0f",
   "metadata": {
    "execution": {
     "iopub.execute_input": "2025-07-25T14:20:02.318143Z",
     "iopub.status.busy": "2025-07-25T14:20:02.317781Z",
     "iopub.status.idle": "2025-07-25T14:20:33.564434Z",
     "shell.execute_reply": "2025-07-25T14:20:33.563735Z",
     "shell.execute_reply.started": "2025-07-25T14:20:02.318118Z"
    }
   },
   "outputs": [
    {
     "name": "stdout",
     "output_type": "stream",
     "text": [
      "Here's the extracted text from the image, maintaining the table structure:\n",
      "\n",
      "```\n",
      "FORM 1                                1004191            G303964\n",
      "                                                         4/30/2025\n",
      "                                                         V11384\n",
      "\n",
      "ITALIAN DIVIDENDS CERTIFICATION FOR RELIEF AT SOURCE\n",
      "CERTIFICAZIONE PER RITENUTA RIDOTTA SU DIVIDENDI ITALIANI\n",
      "THE PRESENT FORM IS A REQUEST TO BENEFIT FROM THE TREATY RATE ON ITALIAN SOURCE DIVIDENDS\n",
      "IL PRESENTE DOCUMENTO COSTITUISCE RICHIESTA AI FINI DELL'OTTENIMENTO DEI BENEFICI CONVENZIONALI SUI DIVIDENDI ITALIANI\n",
      "\n",
      "Part I | DECLARATION OF THE BENEFICIARY\n",
      "Parte I | DICHIARAZIONE DEL BENEFICIARIO\n",
      "Section A | IDENTIFICATION OF THE BENEFICIAL OWNER\n",
      "Sezione A | IDENTIFICAZIONE DEL BENEFICIARIO EFFETTIVO\n",
      "Name of Beneficial Owner / Nome/Ragione sociale del Beneficiario | Internal Reference¹ / Riferimento Interno\n",
      "ONTARIO POWER GENERATION INC.\n",
      "Tax ID or other ID number² / Codice Fiscale o altro codice identificativo | Place of birth (or foreign country)³ / Luogo di nascita (o stato estero) | Date of birth³ / Data di nascita | Sex (M or F)³ / Sesso\n",
      "☒ 87866 4226 RC0004\n",
      "Full address / Indirizzo completo | City / Città | Postal Code / Codice Postale | Country / Paese\n",
      "700 UNIVERSITY AVE H18 | TORONTO, ONTARIO | M5G 1X6 | CANADA\n",
      "Name of Authorized Official / Legal Representative / Nome del Rappresentante legale o autorizzato | Tax ID or other ID number² / Codice Fiscale o altro codice identificativo\n",
      "CIBC MELLON TRUST COMPANY | ☒ 103509485\n",
      "Place of birth (or foreign country)³ / Luogo di nascita (o stato estero) | Date of birth³ / Data di nascita | Sex (M or F)³ / Sesso\n",
      "\n",
      "Full address / Indirizzo completo | City / Città | Postal Code / Codice Postale | Country / Paese\n",
      "1 York Street | Toronto | M5J 0B6 | Canada\n",
      "\n",
      "Section B | DECLARATION-REQUEST OF THE BENEFICIARY\n",
      "Sezione B | DICHIARAZIONE-RICHIESTA DEL BENEFICIARIO\n",
      "\n",
      "The undersigned CIBC MELLON TRUST COMPANY (Name of the beneficial owner, or name of the authorized official/legal representative, in case the form is signed by the latter on behalf of the beneficiary)\n",
      "Il sottoscritto CIBC MELLON TRUST COMPANY (Nome del beneficiario effettivo, ovvero nome del rappresentante legale o autorizzato, se il presente modello è firmato da quest'ultimo per conto del beneficiario)\n",
      "\n",
      "DECLARES\n",
      "DICHIARA\n",
      "\n",
      "1. that the above-mentioned beneficial owner is the final beneficiary of the dividend and that the above-mentioned beneficial owner is resident in CANADA in pursuance of the Double Taxation Agreement between Italy and CANADA (here in after \"The Convention\"); \n",
      "   che il suddetto beneficiario è l'effettivo beneficiario del dividendo e che il suddetto beneficiario è residente in CANADA ai sensi del Trattato contro le Doppie Imposizioni tra l'Italia e CANADA (d'ora in avanti la Convenzione);\n",
      "\n",
      "2. That the above-mentioned beneficial owner does not carry out an industrial or commercial activity through a permanent establishment or a fixed base in Italy, to which the income effectively connects;\n",
      "   Che il suddetto beneficiario non svolge attività industriale o commerciale per mezzo di una stabile organizzazione o un base fissa in Italia, cui si ricolleghi effettivamente il reddito;\n",
      "\n",
      "3. That the above-mentioned beneficial owner is subject to (or liable to) taxation in its country of residence and meets all other necessary requirements to apply the benefits granted by The Convention regarding the income received;\n",
      "   Che il suddetto beneficiario è soggetto (oppure assoggettabile) a tassazione nel proprio paese di residenza e che possiede ogni altro requisito necessario per usufruire delle agevolazioni previste dalla Convenzione rispetto al reddito percepito;\n",
      "\n",
      "ASKS\n",
      "CHIEDE\n",
      "\n",
      "for the exemption from Italian tax or the application of the tax within the limits provided by The Convention, pursuant to art. 27-ter of Presidential Decree no. 600/1973 as from time to time may be amended.\n",
      "l'esonero dall'imposta italiana o l'applicazione nei limiti previsti dalla Convenzione, ai sensi dell'art. 27-ter del D.P.R. n. 600/1973 e successive modifiche e integrazioni.\n",
      "\n",
      "The above said Beneficial Owner authorises BNY Mellon and/or Monte Titoli to keep this form in its office, at the disposal of the competent tax authorities and commits himself to immediately communicate any new circumstances that may impede the application of the Double Taxation Agreement or any changes to the static data reported in this form.\n",
      "Il beneficiario finale sopra menzionato autorizza BNY Mellon e/o Monte Titoli a conservare questo modello nei propri uffici, a disposizione delle competenti autorità fiscali e si impegna a comunicare immediatamente ogni nuovo fatto che potrebbe impedire l'applicazione del Trattato contro le Doppie Imposizioni o ogni modifica dei dati riportati nel presente modello.\n",
      "\n",
      "¹ This field is completed by BNY Mellon and/or Monte Titoli, where appropriate.\n",
      "² If a tax ID has not been assigned by the local tax authorities, please check the box and complete with another ID number assigned by an administrative authority (e.g. Passport number, Social Security number, etc.).\n",
      "³ Only for individuals.\n",
      "```\n"
     ]
    }
   ],
   "source": [
    "# Example usage\n",
    "pdf_path = \"data/BNYM_DOC_Y11384.pdf\"\n",
    "prompt = \"Please extract all the text (INCLUDING HAND WRITTEN ONE) and try to respect the table structure\"\n",
    "\n",
    "result = query_claude_with_pdf_image(pdf_path, prompt, page_number=1)\n",
    "print(result)"
   ]
  },
  {
   "cell_type": "code",
   "execution_count": 45,
   "id": "afad9bfa-43bb-4ff9-9b9c-019d22efd099",
   "metadata": {
    "execution": {
     "iopub.execute_input": "2025-07-25T14:38:39.818407Z",
     "iopub.status.busy": "2025-07-25T14:38:39.817879Z",
     "iopub.status.idle": "2025-07-25T14:39:02.214619Z",
     "shell.execute_reply": "2025-07-25T14:39:02.213628Z",
     "shell.execute_reply.started": "2025-07-25T14:38:39.818377Z"
    }
   },
   "outputs": [
    {
     "name": "stderr",
     "output_type": "stream",
     "text": [
      "2025-07-25 14:38:39,819 [INFO] webapp_html_benchmark: Converting password-protected PDF to images\n"
     ]
    },
    {
     "name": "stdout",
     "output_type": "stream",
     "text": [
      "# CERTIFICATE CONTENT\n",
      "\n",
      "Z084123\n",
      "\n",
      "ROYAUME DE BELGIQUE | KONINKRIJK BELGIË | KÖNIGREICH BELGIEN | KINGDOM OF BELGIUM\n",
      "Service Public Fédéral | Federale Overheidsdienst | Föderaler Öffentlichen Dienst | Federal Public Service\n",
      "FINANCES | FINANCIEN | FINANZEN | FINANCE\n",
      "Administration générale | Algemene Administratie | Generalverwaltung | General Administration\n",
      "de la FISCALITÉ | van de FISCALITEIT | des STEUERWESENS | of TAXATION\n",
      "\n",
      "ATTESTATION (1) | GETUIGSCHRIFT (1) | BESCHEINIGUNG (1) | CERTIFICATE (1)\n",
      "\n",
      "1\n",
      "Exemplaire destiné à\n",
      "l'Administration ...........................\n",
      "Exemplaar voor de\n",
      "................................. administratie\n",
      "Exemplar für die\n",
      "................................. Verwaltung\n",
      "Copy for the\n",
      "Italian | authorities\n",
      "\n",
      "délivrée aux résidents de la Belgique aux fins d'application\n",
      "des conventions préventives de la double imposition.\n",
      "\n",
      "afgeleverd aan inwoners van België met het oog op\n",
      "de toepassing van dubbelbelastingverdragen.\n",
      "\n",
      "für in Belgien ansässige Personen im Hinblick auf\n",
      "die Anwendung der Doppelbesteuerungsabkommen.\n",
      "\n",
      "delivered to residents of Belgium for purposes\n",
      "of double taxation conventions.\n",
      "\n",
      "Le soussigné chef de service certifie que, suivant les éléments en sa possession,\n",
      "De ondergetekende dienstchef bevestigt dat, volgens de gegevens in zijn bezit,\n",
      "Der unterzeichnete Dienstleiter bestätigt, dass gemäß den ihm zur Verfügung stehenden Informationen,\n",
      "The undersigned chief of the office certifies that, according to the information at his disposal,\n",
      "\n",
      "nom (personne physique) | profession\n",
      "= naam (natuurlijke persoon) | beroep\n",
      "Name (natürliche Person) | Beruf\n",
      "name (individual) | occupation\n",
      "\n",
      "demeurant à | rue | n°\n",
      "= wonende te | straat | nr.\n",
      "wohnhaft in | Straße | Nr.\n",
      "residential address | street | N\n",
      "\n",
      "la société | M.R.B.B. of Maatschappij voor Roerend Bezit van de Boerenbond CVBA (Company number:\n",
      "= de vennootschap | 0403552959)\n",
      "die Gesellschaft | (dénomination ou raison sociale - benaming of firma - Firmenbezeichnung - full name)\n",
      "the company |\n",
      "| Diestsesvest 32 / 5b - 3000 Leuven - België\n",
      "| (adresse complète - volledig adres - vollständige Adresse - full address)\n",
      "\n",
      "- est un résident de la Belgique au sens de l'article ..................................... de la convention de double imposition\n",
      "  een inwoner van België is in de zin van artikel ..................................... van het dubbelbelastingverdrag\n",
      "  eine in Belgien ansässige Person ist im Sinne des Artikels ..................................... des Doppelbesteuerungsabkommens\n",
      "  is a resident of Belgium within the meaning of article 4 of the double taxation convention\n",
      "\n",
      "conclue le | 29.04.1983 & | entre la Belgique et\n",
      "ondertekend op | 19.12.1984 & | tussen België en\n",
      "am | 11.10.2004 | zwischen Belgien und | ITALY | geschlossen\n",
      "signed on | | between Belgium and |\n",
      "\n",
      "N° / Nr. 276 Conv. - DTP - 2015\n"
     ]
    }
   ],
   "source": [
    "# Example usage\n",
    "pdf_path = \"data/BNYM_DOC_Z094123.pdf\"\n",
    "prompt = \"Please extract all the text (INCLUDING HAND WRITTEN ONE) and try to respect the table structure\"\n",
    "\n",
    "result = query_claude_with_pdf_image(pdf_path, prompt, page_number=1, pdf_password='Acupay2025@')\n",
    "print(result)\n"
   ]
  },
  {
   "attachments": {},
   "cell_type": "markdown",
   "id": "40386287-b55e-4ac1-926a-57bd9505980e",
   "metadata": {},
   "source": []
  },
  {
   "cell_type": "markdown",
   "id": "0ae7bb8f-c01a-4581-9089-5f2737b2644c",
   "metadata": {},
   "source": [
    "# 3. Example with ink stamp"
   ]
  },
  {
   "cell_type": "code",
   "execution_count": 47,
   "id": "f348ddb0-ca6c-4a19-9f65-adc941998ae3",
   "metadata": {
    "execution": {
     "iopub.execute_input": "2025-07-25T14:42:12.650360Z",
     "iopub.status.busy": "2025-07-25T14:42:12.649841Z",
     "iopub.status.idle": "2025-07-25T14:42:26.466955Z",
     "shell.execute_reply": "2025-07-25T14:42:26.466052Z",
     "shell.execute_reply.started": "2025-07-25T14:42:12.650331Z"
    }
   },
   "outputs": [
    {
     "name": "stderr",
     "output_type": "stream",
     "text": [
      "2025-07-25 14:42:12,651 [INFO] webapp_html_benchmark: Converting password-protected PDF to images\n"
     ]
    },
    {
     "name": "stdout",
     "output_type": "stream",
     "text": [
      "# Tax Residency Certification: to be provided by the investor's local tax authority\n",
      "2022 (From 01/01 --> )\n",
      "\n",
      "## CERTIFICATION OF THE INVESTOR'S TAX AUTHORITIES OF THE COUNTRY OF RESIDENCE\n",
      "\n",
      "*CERTIFICAZIONE DELL'AMMINISTRAZIONE FISCALE DEL PAESE DI RESIDENZA*\n",
      "\n",
      "WE CERTIFY THAT THE BENEFICIARY / *SI CERTIFICA CHE IL BENEFICIARIO*:\n",
      "Kapitalforeningen ATP Invest, Emerging Markets Obligationer\n",
      "Kalvebod Brygge 1\n",
      "1560 Copenhagen V\n",
      "42 64 05 65 (Tax ID)\n",
      "\n",
      "TO THE BEST THIS ADMINISTRATION'S KNOWLEDGE\n",
      "*PER QUANTO RISULTA A QUESTA AMMINISTRAZIONE*\n",
      "\n",
      "IS RESIDENT IN Denmark IN PURSUANCE OF ART. 4 OF THE CONVENTION IN FORCE\n",
      "*E' RESIDENTE IN Danimarca AI SENSI DELL'ART. 4 DELLA CONVENZIONE IN VIGORE*\n",
      "\n",
      "BETWEEN ITALY AND Denmark\n",
      "*TRA L'ITALIA E Danimarca*\n",
      "\n",
      "AND THAT IT\n",
      "*E CHE*\n",
      "\n",
      "[✓] IS\n",
      "[✓] *E' SOGGETTO*\n",
      "\n",
      "[ ] IS NOT\n",
      "[ ] *NON E' SOGGETTO*\n",
      "\n",
      "SUBJECT TO THE CORPORATE TAX IN ITS COUNTRY OF RESIDENCE\n",
      "*ALL'IMPOSTA SUL REDDITO DELLE SOCIETA' NEL PROPRIO PAESE DI RESIDENZA*\n",
      "\n",
      "DATE ........................\n",
      "*DATA*\n",
      "\n",
      "STAMP OF THE OFFICE\n",
      "*TIMBRO DELL'UFFICIO*\n",
      "\n",
      "[Stamp: SKATTE STYRELSEN Guidberghus Ørebjergvej 5]\n",
      "[Stamp: Skatteforvaltningen 06 JAN. 2022]\n",
      "\n",
      "[Signature]\n",
      "Fagkonsulent (Expert Adviser) Lars Munck\n",
      "Danish Customs and Tax Administration\n",
      "\n",
      "SIGNATURE OF THE OFFICER\n",
      "*FIRMA DEL FUNZIONARIO*\n",
      "\n",
      "462556                                   62004                                   42 64 05 65\n"
     ]
    }
   ],
   "source": [
    "# Example usage\n",
    "pdf_path = \"data/BNYM_DOC_Z095357.pdf\"\n",
    "prompt = \"Please extract all the text (INCLUDING HAND WRITTEN ONE) and try to respect the table structure\"\n",
    "\n",
    "result = query_claude_with_pdf_image(pdf_path, prompt, page_number=1, pdf_password='Acupay2025@')\n",
    "print(result)"
   ]
  }
 ],
 "metadata": {
  "kernelspec": {
   "display_name": "Python 3 (ipykernel)",
   "language": "python",
   "name": "python3"
  },
  "language_info": {
   "codemirror_mode": {
    "name": "ipython",
    "version": 3
   },
   "file_extension": ".py",
   "mimetype": "text/x-python",
   "name": "python",
   "nbconvert_exporter": "python",
   "pygments_lexer": "ipython3",
   "version": "3.12.9"
  }
 },
 "nbformat": 4,
 "nbformat_minor": 5
}
